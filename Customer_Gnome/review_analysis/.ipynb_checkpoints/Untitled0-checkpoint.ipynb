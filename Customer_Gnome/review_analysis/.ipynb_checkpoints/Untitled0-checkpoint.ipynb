{
 "metadata": {
  "name": "",
  "signature": "sha256:0626ead9409aeb19081247fba89bf4342cc8b3419a2fb2bc0c94fc3a9f0723a4"
 },
 "nbformat": 3,
 "nbformat_minor": 0,
 "worksheets": []
}