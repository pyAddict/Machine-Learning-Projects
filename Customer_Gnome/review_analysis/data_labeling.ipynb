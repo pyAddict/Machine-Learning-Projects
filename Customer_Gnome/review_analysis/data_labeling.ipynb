{
 "cells": [
  {
   "cell_type": "code",
   "execution_count": 1,
   "metadata": {
    "collapsed": true
   },
   "outputs": [],
   "source": [
    "def mysql_to_pandas(table_name):\n",
    "    #sql to pandas using sqlchemy\n",
    "    import pandas as pd\n",
    "    from sqlalchemy import create_engine\n",
    "    from sqlalchemy.ext.declarative import declarative_base\n",
    "    from sqlalchemy.orm import scoped_session, sessionmaker\n",
    "\n",
    "    # db settings\n",
    "    dbuser = 'root'\n",
    "    dbpass = 'lnmiit'\n",
    "    dbhost = 'localhost'\n",
    "    dbname = 'btpdb'\n",
    "\n",
    "    engine = create_engine(\"mysql://%s:%s@%s/%s?charset=utf8&use_unicode=0\"\n",
    "                           %(dbuser, dbpass, dbhost, dbname),\n",
    "                           echo=False,\n",
    "                           pool_recycle=1800)\n",
    "    conn = engine.connect()\n",
    "    df = pd.read_sql('select * from %s'%table_name, con=conn)  \n",
    "    conn.close()\n",
    "    return df"
   ]
  },
  {
   "cell_type": "code",
   "execution_count": 56,
   "metadata": {
    "collapsed": false
   },
   "outputs": [
    {
     "name": "stdout",
     "output_type": "stream",
     "text": [
      "(3891, 5) (2054, 3)\n"
     ]
    }
   ],
   "source": [
    "df_ama = mysql_to_pandas(\"amazon_AppleiPhone5sSilver16GB\")\n",
    "df_snap = mysql_to_pandas(\"snapdeal_appleiphone5s16gb\")\n",
    "print df_ama.shape,df_snap.shape"
   ]
  },
  {
   "cell_type": "code",
   "execution_count": null,
   "metadata": {
    "collapsed": true
   },
   "outputs": [],
   "source": []
  },
  {
   "cell_type": "code",
   "execution_count": null,
   "metadata": {
    "collapsed": true
   },
   "outputs": [],
   "source": []
  },
  {
   "cell_type": "code",
   "execution_count": 57,
   "metadata": {
    "collapsed": true
   },
   "outputs": [],
   "source": [
    "def filtering(df):\n",
    "    ind_with_keywords = df.review.str.\\\n",
    "    contains('warranty|amazon|snapdel|delivery|shipping|service|transporting|packing|package',\\\n",
    "    flags=re.IGNORECASE, regex=True, na=False)\n",
    "    return df[ind_with_keywords]"
   ]
  },
  {
   "cell_type": "code",
   "execution_count": 78,
   "metadata": {
    "collapsed": true
   },
   "outputs": [],
   "source": [
    "df_ama_filtered = filtering(df_ama)\n",
    "df_snap_filtered = filtering(df_snap)"
   ]
  },
  {
   "cell_type": "code",
   "execution_count": 79,
   "metadata": {
    "collapsed": false
   },
   "outputs": [
    {
     "name": "stdout",
     "output_type": "stream",
     "text": [
      "(1114, 5) (615, 3)\n"
     ]
    }
   ],
   "source": [
    "print df_ama_filtered.shape,df_snap_filtered.shape"
   ]
  },
  {
   "cell_type": "code",
   "execution_count": 80,
   "metadata": {
    "collapsed": false
   },
   "outputs": [
    {
     "data": {
      "text/html": [
       "<div>\n",
       "<table border=\"1\" class=\"dataframe\">\n",
       "  <thead>\n",
       "    <tr style=\"text-align: right;\">\n",
       "      <th></th>\n",
       "      <th>Id</th>\n",
       "      <th>title</th>\n",
       "      <th>rating</th>\n",
       "      <th>upvotes</th>\n",
       "      <th>review</th>\n",
       "    </tr>\n",
       "  </thead>\n",
       "  <tbody>\n",
       "    <tr>\n",
       "      <th>0</th>\n",
       "      <td>1</td>\n",
       "      <td>Good Phone. Got India 1 year warrenty - verified.</td>\n",
       "      <td>5</td>\n",
       "      <td>34</td>\n",
       "      <td>iPhone 5s was first released 2 years ago in No...</td>\n",
       "    </tr>\n",
       "    <tr>\n",
       "      <th>1</th>\n",
       "      <td>2</td>\n",
       "      <td>IS IT STILL WORTH IT IN 2016? [READ TO FIND OU...</td>\n",
       "      <td>4</td>\n",
       "      <td>67</td>\n",
       "      <td>FIRSTLY AMAZON DELIVERED THE PRODUCT WELL ON T...</td>\n",
       "    </tr>\n",
       "  </tbody>\n",
       "</table>\n",
       "</div>"
      ],
      "text/plain": [
       "   Id                                              title  rating  upvotes  \\\n",
       "0   1  Good Phone. Got India 1 year warrenty - verified.       5       34   \n",
       "1   2  IS IT STILL WORTH IT IN 2016? [READ TO FIND OU...       4       67   \n",
       "\n",
       "                                              review  \n",
       "0  iPhone 5s was first released 2 years ago in No...  \n",
       "1  FIRSTLY AMAZON DELIVERED THE PRODUCT WELL ON T...  "
      ]
     },
     "execution_count": 80,
     "metadata": {},
     "output_type": "execute_result"
    }
   ],
   "source": [
    "df_ama_filtered.head(2)"
   ]
  },
  {
   "cell_type": "code",
   "execution_count": 81,
   "metadata": {
    "collapsed": false
   },
   "outputs": [
    {
     "data": {
      "text/html": [
       "<div>\n",
       "<table border=\"1\" class=\"dataframe\">\n",
       "  <thead>\n",
       "    <tr style=\"text-align: right;\">\n",
       "      <th></th>\n",
       "      <th>title</th>\n",
       "      <th>rating</th>\n",
       "      <th>review</th>\n",
       "    </tr>\n",
       "  </thead>\n",
       "  <tbody>\n",
       "    <tr>\n",
       "      <th>4</th>\n",
       "      <td>Awesome Product with Super fast Delivery.</td>\n",
       "      <td>5</td>\n",
       "      <td>Excellent packing, Product original, No need t...</td>\n",
       "    </tr>\n",
       "    <tr>\n",
       "      <th>11</th>\n",
       "      <td>OSM Service</td>\n",
       "      <td>4</td>\n",
       "      <td>Product is delivered on time; gud service prov...</td>\n",
       "    </tr>\n",
       "  </tbody>\n",
       "</table>\n",
       "</div>"
      ],
      "text/plain": [
       "                                        title  rating  \\\n",
       "4   Awesome Product with Super fast Delivery.       5   \n",
       "11                                OSM Service       4   \n",
       "\n",
       "                                               review  \n",
       "4   Excellent packing, Product original, No need t...  \n",
       "11  Product is delivered on time; gud service prov...  "
      ]
     },
     "execution_count": 81,
     "metadata": {},
     "output_type": "execute_result"
    }
   ],
   "source": [
    "df_snap_filtered.head(2)"
   ]
  },
  {
   "cell_type": "code",
   "execution_count": 82,
   "metadata": {
    "collapsed": false
   },
   "outputs": [
    {
     "name": "stderr",
     "output_type": "stream",
     "text": [
      "/home/master/anaconda2/lib/python2.7/site-packages/ipykernel/__main__.py:2: SettingWithCopyWarning: \n",
      "A value is trying to be set on a copy of a slice from a DataFrame.\n",
      "Try using .loc[row_indexer,col_indexer] = value instead\n",
      "\n",
      "See the caveats in the documentation: http://pandas.pydata.org/pandas-docs/stable/indexing.html#indexing-view-versus-copy\n",
      "  from ipykernel import kernelapp as app\n",
      "/home/master/anaconda2/lib/python2.7/site-packages/ipykernel/__main__.py:3: SettingWithCopyWarning: \n",
      "A value is trying to be set on a copy of a slice from a DataFrame.\n",
      "Try using .loc[row_indexer,col_indexer] = value instead\n",
      "\n",
      "See the caveats in the documentation: http://pandas.pydata.org/pandas-docs/stable/indexing.html#indexing-view-versus-copy\n",
      "  app.launch_new_instance()\n"
     ]
    }
   ],
   "source": [
    "import numpy as np\n",
    "df_ama_filtered['label'] = np.nan\n",
    "df_snap_filtered['label'] = np.nan"
   ]
  },
  {
   "cell_type": "code",
   "execution_count": 83,
   "metadata": {
    "collapsed": false
   },
   "outputs": [],
   "source": [
    "df_ama_filtered.loc[df_ama_filtered.rating>3,'label'] = 1\n",
    "df_ama_filtered.loc[df_ama_filtered.rating<=3,'label'] = 0\n",
    "df_snap_filtered.loc[df_snap_filtered.rating>3,'label'] = 1\n",
    "df_snap_filtered.loc[df_snap_filtered.rating<=3,'label'] = 0"
   ]
  },
  {
   "cell_type": "code",
   "execution_count": 84,
   "metadata": {
    "collapsed": false
   },
   "outputs": [
    {
     "data": {
      "text/html": [
       "<div>\n",
       "<table border=\"1\" class=\"dataframe\">\n",
       "  <thead>\n",
       "    <tr style=\"text-align: right;\">\n",
       "      <th></th>\n",
       "      <th>Id</th>\n",
       "      <th>title</th>\n",
       "      <th>rating</th>\n",
       "      <th>upvotes</th>\n",
       "      <th>review</th>\n",
       "      <th>label</th>\n",
       "    </tr>\n",
       "  </thead>\n",
       "  <tbody>\n",
       "    <tr>\n",
       "      <th>0</th>\n",
       "      <td>1</td>\n",
       "      <td>Good Phone. Got India 1 year warrenty - verified.</td>\n",
       "      <td>5</td>\n",
       "      <td>34</td>\n",
       "      <td>iPhone 5s was first released 2 years ago in No...</td>\n",
       "      <td>1</td>\n",
       "    </tr>\n",
       "    <tr>\n",
       "      <th>1</th>\n",
       "      <td>2</td>\n",
       "      <td>IS IT STILL WORTH IT IN 2016? [READ TO FIND OU...</td>\n",
       "      <td>4</td>\n",
       "      <td>67</td>\n",
       "      <td>FIRSTLY AMAZON DELIVERED THE PRODUCT WELL ON T...</td>\n",
       "      <td>1</td>\n",
       "    </tr>\n",
       "  </tbody>\n",
       "</table>\n",
       "</div>"
      ],
      "text/plain": [
       "   Id                                              title  rating  upvotes  \\\n",
       "0   1  Good Phone. Got India 1 year warrenty - verified.       5       34   \n",
       "1   2  IS IT STILL WORTH IT IN 2016? [READ TO FIND OU...       4       67   \n",
       "\n",
       "                                              review  label  \n",
       "0  iPhone 5s was first released 2 years ago in No...      1  \n",
       "1  FIRSTLY AMAZON DELIVERED THE PRODUCT WELL ON T...      1  "
      ]
     },
     "execution_count": 84,
     "metadata": {},
     "output_type": "execute_result"
    }
   ],
   "source": [
    "df_ama_filtered.head(2)"
   ]
  },
  {
   "cell_type": "code",
   "execution_count": 85,
   "metadata": {
    "collapsed": false
   },
   "outputs": [
    {
     "data": {
      "text/html": [
       "<div>\n",
       "<table border=\"1\" class=\"dataframe\">\n",
       "  <thead>\n",
       "    <tr style=\"text-align: right;\">\n",
       "      <th></th>\n",
       "      <th>title</th>\n",
       "      <th>rating</th>\n",
       "      <th>review</th>\n",
       "      <th>label</th>\n",
       "    </tr>\n",
       "  </thead>\n",
       "  <tbody>\n",
       "    <tr>\n",
       "      <th>4</th>\n",
       "      <td>Awesome Product with Super fast Delivery.</td>\n",
       "      <td>5</td>\n",
       "      <td>Excellent packing, Product original, No need t...</td>\n",
       "      <td>1</td>\n",
       "    </tr>\n",
       "    <tr>\n",
       "      <th>11</th>\n",
       "      <td>OSM Service</td>\n",
       "      <td>4</td>\n",
       "      <td>Product is delivered on time; gud service prov...</td>\n",
       "      <td>1</td>\n",
       "    </tr>\n",
       "  </tbody>\n",
       "</table>\n",
       "</div>"
      ],
      "text/plain": [
       "                                        title  rating  \\\n",
       "4   Awesome Product with Super fast Delivery.       5   \n",
       "11                                OSM Service       4   \n",
       "\n",
       "                                               review  label  \n",
       "4   Excellent packing, Product original, No need t...      1  \n",
       "11  Product is delivered on time; gud service prov...      1  "
      ]
     },
     "execution_count": 85,
     "metadata": {},
     "output_type": "execute_result"
    }
   ],
   "source": [
    "df_snap_filtered.head(2)"
   ]
  },
  {
   "cell_type": "code",
   "execution_count": 93,
   "metadata": {
    "collapsed": false
   },
   "outputs": [
    {
     "name": "stdout",
     "output_type": "stream",
     "text": [
      "(920, 6) (194, 6)\n",
      "(602, 4) (13, 4)\n"
     ]
    }
   ],
   "source": [
    "print df_ama_filtered.loc[df_ama_filtered.label==1].shape,df_ama_filtered.loc[df_ama_filtered.label==0].shape\n",
    "print df_snap_filtered.loc[df_snap_filtered.label==1].shape,df_snap_filtered.loc[df_snap_filtered.label==0].shape"
   ]
  },
  {
   "cell_type": "code",
   "execution_count": 94,
   "metadata": {
    "collapsed": true
   },
   "outputs": [],
   "source": [
    "df1 = df_ama_filtered\n",
    "df2 = df_snap_filtered"
   ]
  },
  {
   "cell_type": "code",
   "execution_count": 103,
   "metadata": {
    "collapsed": true
   },
   "outputs": [],
   "source": [
    "df_labeled = pd.concat([df1[['review','label']], df2[['review','label']]])"
   ]
  },
  {
   "cell_type": "code",
   "execution_count": 104,
   "metadata": {
    "collapsed": false
   },
   "outputs": [
    {
     "name": "stdout",
     "output_type": "stream",
     "text": [
      "(1114, 6) (615, 4) (1729, 2)\n"
     ]
    }
   ],
   "source": [
    "print df1.shape,df2.shape,df_labeled.shape"
   ]
  },
  {
   "cell_type": "code",
   "execution_count": 105,
   "metadata": {
    "collapsed": false,
    "scrolled": true
   },
   "outputs": [
    {
     "data": {
      "text/html": [
       "<div>\n",
       "<table border=\"1\" class=\"dataframe\">\n",
       "  <thead>\n",
       "    <tr style=\"text-align: right;\">\n",
       "      <th></th>\n",
       "      <th>review</th>\n",
       "      <th>label</th>\n",
       "    </tr>\n",
       "  </thead>\n",
       "  <tbody>\n",
       "    <tr>\n",
       "      <th>0</th>\n",
       "      <td>iPhone 5s was first released 2 years ago in No...</td>\n",
       "      <td>1</td>\n",
       "    </tr>\n",
       "    <tr>\n",
       "      <th>1</th>\n",
       "      <td>FIRSTLY AMAZON DELIVERED THE PRODUCT WELL ON T...</td>\n",
       "      <td>1</td>\n",
       "    </tr>\n",
       "    <tr>\n",
       "      <th>2</th>\n",
       "      <td>In the past 4 years I have owned Android and (...</td>\n",
       "      <td>1</td>\n",
       "    </tr>\n",
       "    <tr>\n",
       "      <th>3</th>\n",
       "      <td>iPhone 5s was first released 2 years ago in No...</td>\n",
       "      <td>1</td>\n",
       "    </tr>\n",
       "    <tr>\n",
       "      <th>5</th>\n",
       "      <td>I had returned the i phone on the very fourth ...</td>\n",
       "      <td>0</td>\n",
       "    </tr>\n",
       "  </tbody>\n",
       "</table>\n",
       "</div>"
      ],
      "text/plain": [
       "                                              review  label\n",
       "0  iPhone 5s was first released 2 years ago in No...      1\n",
       "1  FIRSTLY AMAZON DELIVERED THE PRODUCT WELL ON T...      1\n",
       "2  In the past 4 years I have owned Android and (...      1\n",
       "3  iPhone 5s was first released 2 years ago in No...      1\n",
       "5  I had returned the i phone on the very fourth ...      0"
      ]
     },
     "execution_count": 105,
     "metadata": {},
     "output_type": "execute_result"
    }
   ],
   "source": [
    "df_labeled.head()"
   ]
  },
  {
   "cell_type": "code",
   "execution_count": 107,
   "metadata": {
    "collapsed": false
   },
   "outputs": [
    {
     "name": "stdout",
     "output_type": "stream",
     "text": [
      "(1522, 2) (207, 2)\n"
     ]
    }
   ],
   "source": [
    "print df_labeled.loc[df_labeled.label==1].shape,df_labeled.loc[df_labeled.label==0].shape"
   ]
  },
  {
   "cell_type": "code",
   "execution_count": 108,
   "metadata": {
    "collapsed": true
   },
   "outputs": [],
   "source": [
    "df_labeled.to_csv( \"./labeled_data.csv\", index=False)"
   ]
  },
  {
   "cell_type": "code",
   "execution_count": null,
   "metadata": {
    "collapsed": true
   },
   "outputs": [],
   "source": []
  },
  {
   "cell_type": "code",
   "execution_count": null,
   "metadata": {
    "collapsed": true
   },
   "outputs": [],
   "source": [
    "import numpy as np\n",
    "from sklearn.metrics import accuracy_score\n",
    "y_pred = [0, 2, 1, 3]\n",
    "y_true = [0, 1, 2, 3]\n",
    "accuracy_score(y_true, y_pred)"
   ]
  },
  {
   "cell_type": "code",
   "execution_count": null,
   "metadata": {
    "collapsed": true
   },
   "outputs": [],
   "source": []
  }
 ],
 "metadata": {
  "kernelspec": {
   "display_name": "Python 2",
   "language": "python",
   "name": "python2"
  },
  "language_info": {
   "codemirror_mode": {
    "name": "ipython",
    "version": 2
   },
   "file_extension": ".py",
   "mimetype": "text/x-python",
   "name": "python",
   "nbconvert_exporter": "python",
   "pygments_lexer": "ipython2",
   "version": "2.7.12"
  }
 },
 "nbformat": 4,
 "nbformat_minor": 0
}
