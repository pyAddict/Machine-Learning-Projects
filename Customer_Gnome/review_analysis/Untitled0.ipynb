{
 "metadata": {
  "name": "",
  "signature": "sha256:16bf906b523a76db5257f4411f2567ef9a147960373c4069259ee8993d2cbd60"
 },
 "nbformat": 3,
 "nbformat_minor": 0,
 "worksheets": [
  {
   "cells": [
    {
     "cell_type": "code",
     "collapsed": false,
     "input": [
      "import pandas as pd"
     ],
     "language": "python",
     "metadata": {},
     "outputs": [],
     "prompt_number": 1
    },
    {
     "cell_type": "code",
     "collapsed": false,
     "input": [
      "from sqlalchemy import create_engine\n",
      "from sqlalchemy.ext.declarative import declarative_base\n",
      "from sqlalchemy.orm import scoped_session, sessionmaker\n",
      "\n",
      "# db settings\n",
      "dbuser = 'root'\n",
      "dbpass = ''\n",
      "dbhost = 'localhost'\n",
      "dbname = 'btpdb'\n",
      "\n",
      "engine = create_engine(\"mysql://%s:%s@%s/%s?charset=utf8&use_unicode=0\"\n",
      "                       %(dbuser, dbpass, dbhost, dbname),\n",
      "                       echo=False,\n",
      "                       pool_recycle=1800)"
     ],
     "language": "python",
     "metadata": {},
     "outputs": [],
     "prompt_number": 3
    },
    {
     "cell_type": "code",
     "collapsed": false,
     "input": [
      "conn = engine.raw_connection()"
     ],
     "language": "python",
     "metadata": {},
     "outputs": [],
     "prompt_number": 9
    },
    {
     "cell_type": "code",
     "collapsed": false,
     "input": [
      "df = pd.read_sql('select * from amazon_samsungj7', con=conn)"
     ],
     "language": "python",
     "metadata": {},
     "outputs": [],
     "prompt_number": 10
    },
    {
     "cell_type": "code",
     "collapsed": false,
     "input": [
      "df.head()"
     ],
     "language": "python",
     "metadata": {},
     "outputs": [
      {
       "html": [
        "<div style=\"max-height:1000px;max-width:1500px;overflow:auto;\">\n",
        "<table border=\"1\" class=\"dataframe\">\n",
        "  <thead>\n",
        "    <tr style=\"text-align: right;\">\n",
        "      <th></th>\n",
        "      <th>Id</th>\n",
        "      <th>title</th>\n",
        "      <th>rating</th>\n",
        "      <th>upvotes</th>\n",
        "      <th>review</th>\n",
        "    </tr>\n",
        "  </thead>\n",
        "  <tbody>\n",
        "    <tr>\n",
        "      <th>0</th>\n",
        "      <td> 1</td>\n",
        "      <td> Poor Performance and Poor customer Service by ...</td>\n",
        "      <td> 1</td>\n",
        "      <td> 490</td>\n",
        "      <td> I have purchased a mobile samsung j 7 in april...</td>\n",
        "    </tr>\n",
        "    <tr>\n",
        "      <th>1</th>\n",
        "      <td> 2</td>\n",
        "      <td> First the display is big and awesome, the touc...</td>\n",
        "      <td> 5</td>\n",
        "      <td> 324</td>\n",
        "      <td> I will write this review step by step. First t...</td>\n",
        "    </tr>\n",
        "    <tr>\n",
        "      <th>2</th>\n",
        "      <td> 3</td>\n",
        "      <td>                 not the best !! not the worst !!!</td>\n",
        "      <td> 4</td>\n",
        "      <td>   4</td>\n",
        "      <td> this is just a huge company tag phone with abs...</td>\n",
        "    </tr>\n",
        "    <tr>\n",
        "      <th>3</th>\n",
        "      <td> 4</td>\n",
        "      <td>              Faulty phone. No after sales service</td>\n",
        "      <td> 1</td>\n",
        "      <td>   4</td>\n",
        "      <td> Pathetic after sales service. Phone display st...</td>\n",
        "    </tr>\n",
        "    <tr>\n",
        "      <th>4</th>\n",
        "      <td> 5</td>\n",
        "      <td>    Review of items recently purchased from amazon</td>\n",
        "      <td> 5</td>\n",
        "      <td>   9</td>\n",
        "      <td> All the above items were received good conditi...</td>\n",
        "    </tr>\n",
        "  </tbody>\n",
        "</table>\n",
        "</div>"
       ],
       "metadata": {},
       "output_type": "pyout",
       "prompt_number": 11,
       "text": [
        "   Id                                              title  rating  upvotes  \\\n",
        "0   1  Poor Performance and Poor customer Service by ...       1      490   \n",
        "1   2  First the display is big and awesome, the touc...       5      324   \n",
        "2   3                  not the best !! not the worst !!!       4        4   \n",
        "3   4               Faulty phone. No after sales service       1        4   \n",
        "4   5     Review of items recently purchased from amazon       5        9   \n",
        "\n",
        "                                              review  \n",
        "0  I have purchased a mobile samsung j 7 in april...  \n",
        "1  I will write this review step by step. First t...  \n",
        "2  this is just a huge company tag phone with abs...  \n",
        "3  Pathetic after sales service. Phone display st...  \n",
        "4  All the above items were received good conditi...  "
       ]
      }
     ],
     "prompt_number": 11
    },
    {
     "cell_type": "code",
     "collapsed": false,
     "input": [],
     "language": "python",
     "metadata": {},
     "outputs": []
    }
   ],
   "metadata": {}
  }
 ]
}